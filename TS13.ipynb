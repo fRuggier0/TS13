{
 "cells": [
  {
   "cell_type": "markdown",
   "id": "931197d8-84ea-45e8-95f3-5e8fce6f5654",
   "metadata": {},
   "source": [
    "# TS 13 - Síntesis de cuadripolos doblemente cargados\n",
    "\n",
    "### *Franco Ruggiero*"
   ]
  },
  {
   "cell_type": "markdown",
   "id": "92f4f34f-d8ec-4bc9-ac19-fe3a0e81789f",
   "metadata": {},
   "source": [
    "### Parte A:  Diseñe el cuadripolo A para que se comporte como:"
   ]
  },
  {
   "cell_type": "markdown",
   "id": "07dded53-5f88-4a21-ae77-b5071524417f",
   "metadata": {},
   "source": [
    "* filtro pasa bajos Bessel de 3er. orden\n",
    "* no disipativo\n",
    "* normalizado en frecuencia e impedancia\n",
    "\n",
    "Respetando la siguiente topología:"
   ]
  },
  {
   "cell_type": "markdown",
   "id": "2a89d464-8b33-4f2f-af02-e517836a7186",
   "metadata": {},
   "source": [
    "<img src=\"image1.png\" style=\"width:400px ; height:190px\">"
   ]
  },
  {
   "cell_type": "markdown",
   "id": "665e52ef-3a07-44b3-9502-5c31c2efa4ff",
   "metadata": {},
   "source": [
    "1) Obtenga la impedancia de entrada al cuadripolo A, cargado con un resistor de 1Ω a la salida."
   ]
  },
  {
   "cell_type": "markdown",
   "id": "22c42be4-6f2d-4ae5-add3-e8ee18bce636",
   "metadata": {},
   "source": [
    "> <img src=\"A1_1.jpg\" style=\"width:700px ; height:900px\">\n",
    "> <img src=\"A1_2.jpg\" style=\"width:700px ; height:900px\">\n",
    "> <img src=\"A1_3.jpg\" style=\"width:700px ; height:900px\">"
   ]
  },
  {
   "cell_type": "markdown",
   "id": "78ea3561-b418-4de6-bdd8-3281090f6ed2",
   "metadata": {},
   "source": [
    "2) Sintetice A como un cuadripolo escalera."
   ]
  },
  {
   "cell_type": "markdown",
   "id": "0ed3cc7b-ea12-442e-a4b0-ae64cc3fc7ca",
   "metadata": {},
   "source": [
    "> <img src=\"A2.jpg\" style=\"width:700px ; height:600px\">"
   ]
  },
  {
   "cell_type": "markdown",
   "id": "42accbf6-9f99-4e10-9f25-6633dd7726ee",
   "metadata": {},
   "source": [
    "3) Simule el comportamiento de la red en LTspice graficando S21 y S11 en función de la frecuencia."
   ]
  },
  {
   "cell_type": "markdown",
   "id": "d6167d1f-36f4-45ed-ae09-5fda1f26a6fb",
   "metadata": {},
   "source": [
    "4) Explique el comportamiento de A a partir de los valores de S11 en las siguientes frecuencias:\n",
    "    * centro de la banda de paso\n",
    "    * frecuencia de corte\n",
    "    * transición y centro de la banda de detenida"
   ]
  },
  {
   "cell_type": "markdown",
   "id": "ae130a09-5e05-49d3-9cb5-4d4e21e64b01",
   "metadata": {},
   "source": [
    "5) Modifique el circuito para que la frecuencia de corte sea $2\\pi10^6$ rad/s y la resistencia del generador sea 50Ω."
   ]
  },
  {
   "cell_type": "markdown",
   "id": "eed24249-f6b1-4537-af08-1cef02869989",
   "metadata": {},
   "source": [
    "> <img src=\"A5.jpg\" style=\"width:700px ; height:600px\">"
   ]
  },
  {
   "cell_type": "markdown",
   "id": "79d03621-8054-42c1-a0e9-8084190fa1cb",
   "metadata": {},
   "source": [
    "### Parte B: Trabajo de Investigación sobre NANO VNA ( Vector Network Analyzer )"
   ]
  },
  {
   "cell_type": "markdown",
   "id": "b0448540-57fa-4d91-ac34-f9e4b06b47c7",
   "metadata": {},
   "source": [
    "1) #### *Explique brevemente la función principal de un VNA y en que situación/es puede ser fundamental tenerlo como herramienta de medición.* "
   ]
  },
  {
   "cell_type": "markdown",
   "id": "24d07b40-0b89-471e-9625-7f5f2452ee06",
   "metadata": {},
   "source": [
    "Un VNA (Analizador de Redes Vectoriales) es un dispositivo utilizado para medir parámetros de red en componentes eléctricos y electrónicos, como amplificadores, filtros y antenas. Su función principal es evaluar la amplitud y fase de las señales para determinar la reflectividad y la transmisión de los dispositivos analizados.\n",
    "\n",
    "Podria ser de gran utilidad para: \n",
    "- Optimizar el rendimiento de circuitos de alta frecuencia.\n",
    "- Medir la adaptación de impedancia y la eficiencia de radiación.\n",
    "- Para verificar y ajustar el comportamiento de amplificadores y filtros.\n",
    "- Entre otras"
   ]
  },
  {
   "cell_type": "markdown",
   "id": "5cc2be95-bfc2-4412-9b65-aed47c4291fd",
   "metadata": {},
   "source": [
    "2) #### *Comparar respecto a un DSO (Osciloscopio Digital de Almacenamiento)  GW Insteak características de: Ancho de Banda, Rango Dinámico e Impedancia de Entrada.*\n",
    "   "
   ]
  },
  {
   "cell_type": "markdown",
   "id": "0083037b-cc0a-464b-9e2a-0f15fa9f4f78",
   "metadata": {},
   "source": [
    "Un DSO GW Insteak es más adecuado para visualizar señales en tiempo, mientras que un VNA es esencial para el análisis de redes en RF y microondas, ofreciendo ventajas en ancho de banda, rango dinámico e impedancia de entrada para esas aplicaciones específicas."
   ]
  },
  {
   "cell_type": "markdown",
   "id": "118648aa-efca-4312-9b24-a84bf29a9751",
   "metadata": {},
   "source": [
    "3) #### *Además de las mediciones de S11 y S21 , investigar si el equipo cuenta con alguna medición en el dominio del tiempo.*"
   ]
  },
  {
   "cell_type": "markdown",
   "id": "624b428e-1b35-4876-8dc8-8d3c53c0f968",
   "metadata": {},
   "source": [
    "Muchos VNAs modernos ofrecen capacidades de medición en el dominio del tiempo,\n",
    "- TDR (Time Domain Reflectometry):  *(El modo TDR les permite enviar pulsos a través del dispositivo bajo prueba y analizar cómo esos pulsos se reflejan en el tiempo. Esto es especialmente útil para detectar discontinuidades, fallas y características de impedancia en cables y trazas de circuitos)*\n",
    "\n",
    "- \"análisis de respuesta de impulso\":  *donde se mide la respuesta temporal del dispositivo a un impulso corto. Esto es útil para caracterizar sistemas y componentes en términos de tiempo, como medir el retardo y la distorsión de la señal.*\n",
    "\n",
    "- Transformada de Fourier: *Los VNAs pueden aplicar la transformada de Fourier para convertir mediciones en el dominio de frecuencia a mediciones en el dominio del tiempo. Esto permite visualizar cómo la señal se comporta a lo largo del tiempo, brindando información adicional sobre la respuesta temporal del dispositivo bajo prueba.*\n"
   ]
  }
 ],
 "metadata": {
  "kernelspec": {
   "display_name": "Python 3 (ipykernel)",
   "language": "python",
   "name": "python3"
  },
  "language_info": {
   "codemirror_mode": {
    "name": "ipython",
    "version": 3
   },
   "file_extension": ".py",
   "mimetype": "text/x-python",
   "name": "python",
   "nbconvert_exporter": "python",
   "pygments_lexer": "ipython3",
   "version": "3.11.7"
  }
 },
 "nbformat": 4,
 "nbformat_minor": 5
}
